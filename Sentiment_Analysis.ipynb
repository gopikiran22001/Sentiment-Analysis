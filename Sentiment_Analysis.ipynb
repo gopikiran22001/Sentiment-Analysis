{
  "nbformat": 4,
  "nbformat_minor": 0,
  "metadata": {
    "colab": {
      "provenance": []
    },
    "kernelspec": {
      "name": "python3",
      "display_name": "Python 3"
    },
    "language_info": {
      "name": "python"
    }
  },
  "cells": [
    {
      "cell_type": "code",
      "execution_count": 40,
      "metadata": {
        "id": "fz8qBPSRdO28",
        "colab": {
          "base_uri": "https://localhost:8080/"
        },
        "outputId": "157104f5-ac49-44bd-d8b1-265033e87080"
      },
      "outputs": [
        {
          "output_type": "stream",
          "name": "stderr",
          "text": [
            "[nltk_data] Downloading package stopwords to /root/nltk_data...\n",
            "[nltk_data]   Package stopwords is already up-to-date!\n",
            "[nltk_data] Downloading package wordnet to /root/nltk_data...\n",
            "[nltk_data]   Package wordnet is already up-to-date!\n",
            "[nltk_data] Downloading package omw-1.4 to /root/nltk_data...\n"
          ]
        },
        {
          "output_type": "execute_result",
          "data": {
            "text/plain": [
              "True"
            ]
          },
          "metadata": {},
          "execution_count": 40
        }
      ],
      "source": [
        "import pandas as pd\n",
        "import numpy as np\n",
        "import re\n",
        "import string\n",
        "import nltk\n",
        "from nltk.corpus import stopwords\n",
        "from nltk.stem import WordNetLemmatizer\n",
        "from sklearn.feature_extraction.text import TfidfVectorizer\n",
        "from sklearn.model_selection import train_test_split\n",
        "from sklearn.naive_bayes import MultinomialNB\n",
        "from sklearn.svm import LinearSVC\n",
        "from sklearn.neighbors import KNeighborsClassifier\n",
        "from sklearn.metrics import classification_report, accuracy_score\n",
        "\n",
        "# Download NLTK resources\n",
        "nltk.download('stopwords')\n",
        "nltk.download('wordnet')\n",
        "nltk.download('omw-1.4')"
      ]
    },
    {
      "cell_type": "code",
      "source": [
        "df = pd.read_csv(\"/content/drive/MyDrive/Sentiment Analysis/twitter_training.csv\", header=None)\n",
        "df.columns = [\"id\", \"topic\", \"sentiment\", \"text\"]\n",
        "\n",
        "# Use only sentiment + text\n",
        "df = df[[\"sentiment\", \"text\"]]\n",
        "\n",
        "print(\"Sample Data:\")\n",
        "print(df.head())\n"
      ],
      "metadata": {
        "colab": {
          "base_uri": "https://localhost:8080/"
        },
        "id": "yAioEMPXgD4X",
        "outputId": "69e52fa1-2832-4ea0-c428-5804118cdaa1"
      },
      "execution_count": 41,
      "outputs": [
        {
          "output_type": "stream",
          "name": "stdout",
          "text": [
            "Sample Data:\n",
            "  sentiment                                               text\n",
            "0  Positive  im getting on borderlands and i will murder yo...\n",
            "1  Positive  I am coming to the borders and I will kill you...\n",
            "2  Positive  im getting on borderlands and i will kill you ...\n",
            "3  Positive  im coming on borderlands and i will murder you...\n",
            "4  Positive  im getting on borderlands 2 and i will murder ...\n"
          ]
        }
      ]
    },
    {
      "cell_type": "code",
      "source": [
        "stop_words = set(stopwords.words('english'))\n",
        "lemmatizer = WordNetLemmatizer()\n",
        "\n",
        "def clean_text(text):\n",
        "    # Lowercase\n",
        "    text = text.lower()\n",
        "    # Remove links, mentions, hashtags\n",
        "    text = re.sub(r\"http\\S+|www\\S+|https\\S+\", '', text, flags=re.MULTILINE)\n",
        "    text = re.sub(r'@\\w+|\\#','', text)\n",
        "    # Remove punctuation & numbers\n",
        "    text = re.sub(r'[^a-zA-Z]', ' ', text)\n",
        "    # Tokenize and remove stopwords + lemmatize\n",
        "    tokens = [lemmatizer.lemmatize(word) for word in text.split() if word not in stop_words]\n",
        "    return \" \".join(tokens)\n",
        "\n",
        "df[\"clean_text\"] = df[\"text\"].astype(str).apply(clean_text)"
      ],
      "metadata": {
        "id": "8c7vMBVrgM2X"
      },
      "execution_count": 42,
      "outputs": []
    },
    {
      "cell_type": "code",
      "metadata": {
        "id": "f564870a"
      },
      "source": [
        "X = df[\"clean_text\"]\n",
        "y = df[\"sentiment\"]\n",
        "\n",
        "vectorizer = TfidfVectorizer(max_features=5000)\n",
        "X_vec = vectorizer.fit_transform(X)\n",
        "\n",
        "# Train-test split\n",
        "X_train, X_test, y_train, y_test = train_test_split(X_vec, y, test_size=0.2, random_state=42, stratify=y)"
      ],
      "execution_count": 43,
      "outputs": []
    },
    {
      "cell_type": "code",
      "source": [
        "# Naive Bayes\n",
        "nb = MultinomialNB()\n",
        "nb.fit(X_train, y_train)\n",
        "nb_pred = nb.predict(X_test)\n",
        "\n",
        "# SVM\n",
        "svm = LinearSVC()\n",
        "svm.fit(X_train, y_train)\n",
        "svm_pred = svm.predict(X_test)\n",
        "\n",
        "# KNN\n",
        "knn = KNeighborsClassifier(n_neighbors=5)\n",
        "knn.fit(X_train, y_train)\n",
        "knn_pred = knn.predict(X_test)"
      ],
      "metadata": {
        "id": "L-NjFufkh81k"
      },
      "execution_count": 44,
      "outputs": []
    },
    {
      "cell_type": "code",
      "source": [
        "print(\"\\n=== Naive Bayes Report ===\")\n",
        "print(classification_report(y_test, nb_pred))\n",
        "print(\"Accuracy:\", accuracy_score(y_test, nb_pred))\n",
        "\n",
        "print(\"\\n=== SVM Report ===\")\n",
        "print(classification_report(y_test, svm_pred))\n",
        "print(\"Accuracy:\", accuracy_score(y_test, svm_pred))\n",
        "\n",
        "print(\"\\n=== KNN Report ===\")\n",
        "print(classification_report(y_test, knn_pred))\n",
        "print(\"Accuracy:\", accuracy_score(y_test, knn_pred))"
      ],
      "metadata": {
        "colab": {
          "base_uri": "https://localhost:8080/"
        },
        "id": "Z4jfmQuCnqoR",
        "outputId": "7d9f2343-260c-4c25-9e93-26519b976325"
      },
      "execution_count": 45,
      "outputs": [
        {
          "output_type": "stream",
          "name": "stdout",
          "text": [
            "\n",
            "=== Naive Bayes Report ===\n",
            "              precision    recall  f1-score   support\n",
            "\n",
            "  Irrelevant       0.73      0.35      0.47      2598\n",
            "    Negative       0.63      0.80      0.70      4509\n",
            "     Neutral       0.66      0.55      0.60      3664\n",
            "    Positive       0.62      0.73      0.67      4166\n",
            "\n",
            "    accuracy                           0.64     14937\n",
            "   macro avg       0.66      0.61      0.61     14937\n",
            "weighted avg       0.65      0.64      0.63     14937\n",
            "\n",
            "Accuracy: 0.6408247974827609\n",
            "\n",
            "=== SVM Report ===\n",
            "              precision    recall  f1-score   support\n",
            "\n",
            "  Irrelevant       0.71      0.57      0.63      2598\n",
            "    Negative       0.72      0.80      0.76      4509\n",
            "     Neutral       0.70      0.66      0.68      3664\n",
            "    Positive       0.70      0.73      0.72      4166\n",
            "\n",
            "    accuracy                           0.71     14937\n",
            "   macro avg       0.71      0.69      0.70     14937\n",
            "weighted avg       0.71      0.71      0.70     14937\n",
            "\n",
            "Accuracy: 0.7073040101760728\n",
            "\n",
            "=== KNN Report ===\n",
            "              precision    recall  f1-score   support\n",
            "\n",
            "  Irrelevant       0.83      0.83      0.83      2598\n",
            "    Negative       0.85      0.91      0.88      4509\n",
            "     Neutral       0.91      0.87      0.89      3664\n",
            "    Positive       0.89      0.85      0.87      4166\n",
            "\n",
            "    accuracy                           0.87     14937\n",
            "   macro avg       0.87      0.87      0.87     14937\n",
            "weighted avg       0.87      0.87      0.87     14937\n",
            "\n",
            "Accuracy: 0.8698533842136975\n"
          ]
        }
      ]
    },
    {
      "cell_type": "code",
      "source": [
        "def predict_sentiment(text):\n",
        "    clean = clean_text(text)\n",
        "    vec = vectorizer.transform([clean])\n",
        "    pred = svm.predict(vec)[0]  # Using SVM as final model\n",
        "    return pred\n",
        "\n",
        "print(\"\\nReal-time Test Predictions:\")\n",
        "print(predict_sentiment(input()))"
      ],
      "metadata": {
        "colab": {
          "base_uri": "https://localhost:8080/"
        },
        "id": "s2_pmEI4nwDe",
        "outputId": "e610ec21-4428-4640-9d8a-19b97b638378"
      },
      "execution_count": 48,
      "outputs": [
        {
          "output_type": "stream",
          "name": "stdout",
          "text": [
            "\n",
            "Real-time Test Predictions:\n",
            "this was the worst product i have bought\n",
            "Negative\n"
          ]
        }
      ]
    },
    {
      "cell_type": "code",
      "source": [
        "import joblib\n",
        "\n",
        "# Save the trained model (using SVM here, but you can choose Naive Bayes or KNN too)\n",
        "joblib.dump(svm, \"sentiment_model.joblib\")\n",
        "\n",
        "# Save the TF-IDF vectorizer\n",
        "joblib.dump(vectorizer, \"vectorizer.joblib\")\n",
        "\n",
        "print(\"✅ Model and vectorizer saved successfully!\")\n"
      ],
      "metadata": {
        "colab": {
          "base_uri": "https://localhost:8080/"
        },
        "id": "qSFL_Ja1o4Gy",
        "outputId": "6cc98253-931d-4e48-9973-903f86fdbec4"
      },
      "execution_count": 49,
      "outputs": [
        {
          "output_type": "stream",
          "name": "stdout",
          "text": [
            "✅ Model and vectorizer saved successfully!\n"
          ]
        }
      ]
    }
  ]
}